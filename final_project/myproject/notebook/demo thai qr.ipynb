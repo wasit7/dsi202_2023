{
 "cells": [
  {
   "cell_type": "code",
   "execution_count": null,
   "id": "6633ef1b",
   "metadata": {
    "scrolled": true
   },
   "outputs": [],
   "source": [
    "!pip install requests qrcode"
   ]
  },
  {
   "cell_type": "code",
   "execution_count": 2,
   "id": "fbd8c5a2",
   "metadata": {},
   "outputs": [],
   "source": [
    "from IPython.display import Image\n",
    "import requests\n",
    "import qrcode\n",
    "\n",
    "def get_qr(mode=\"mobile\", send_to=\"\", amount=1.23):\n",
    "    url='https://thq68saavk.execute-api.ap-southeast-1.amazonaws.com/api/thai_qr'\n",
    "    r = requests.post(url, json={\"mode\":mode,\"send_to\":send_to, \"amount\":amount})\n",
    "    code=r.json()['result']\n",
    "    return code\n"
   ]
  },
  {
   "cell_type": "code",
   "execution_count": 3,
   "id": "a9c0be84",
   "metadata": {},
   "outputs": [
    {
     "name": "stdout",
     "output_type": "stream",
     "text": [
      "00020101021153037645802TH29370016A0000006770101110113006682663920654041.2363046024\n"
     ]
    },
    {
     "data": {
      "image/png": "[encoded data removed]",
      "text/plain": [
       "<IPython.core.display.Image object>"
      ]
     },
     "execution_count": 3,
     "metadata": {},
     "output_type": "execute_result"
    }
   ],
   "source": [
    "#to promptpay mobile\n",
    "code=get_qr(mode=\"mobile\", send_to=\"0826639206\", amount=1.23)\n",
    "print(code)\n",
    "img = qrcode.make(code,box_size=4)\n",
    "img.save('qr.png')\n",
    "Image(filename='qr.png') "
   ]
  },
  {
   "cell_type": "code",
   "execution_count": null,
   "id": "43d11f8d",
   "metadata": {},
   "outputs": [],
   "source": []
  }
 ],
 "metadata": {
  "kernelspec": {
   "display_name": "Python 3 (ipykernel)",
   "language": "python",
   "name": "python3"
  },
  "language_info": {
   "codemirror_mode": {
    "name": "ipython",
    "version": 3
   },
   "file_extension": ".py",
   "mimetype": "text/x-python",
   "name": "python",
   "nbconvert_exporter": "python",
   "pygments_lexer": "ipython3",
   "version": "3.10.9"
  }
 },
 "nbformat": 4,
 "nbformat_minor": 5
}
