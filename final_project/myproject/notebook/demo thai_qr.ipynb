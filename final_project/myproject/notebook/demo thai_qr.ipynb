{
 "cells": [
  {
   "cell_type": "code",
   "execution_count": 4,
   "id": "9a0735e9",
   "metadata": {},
   "outputs": [
    {
     "name": "stdout",
     "output_type": "stream",
     "text": [
      "Requirement already satisfied: requests in /home/wasit/miniconda3/envs/dsi202_2022/lib/python3.8/site-packages (2.27.1)\r\n",
      "Requirement already satisfied: qrcode in /home/wasit/miniconda3/envs/dsi202_2022/lib/python3.8/site-packages (7.3.1)\r\n",
      "Requirement already satisfied: charset-normalizer~=2.0.0 in /home/wasit/miniconda3/envs/dsi202_2022/lib/python3.8/site-packages (from requests) (2.0.12)\r\n",
      "Requirement already satisfied: urllib3<1.27,>=1.21.1 in /home/wasit/miniconda3/envs/dsi202_2022/lib/python3.8/site-packages (from requests) (1.26.8)\r\n",
      "Requirement already satisfied: idna<4,>=2.5 in /home/wasit/miniconda3/envs/dsi202_2022/lib/python3.8/site-packages (from requests) (3.3)\r\n",
      "Requirement already satisfied: certifi>=2017.4.17 in /home/wasit/miniconda3/envs/dsi202_2022/lib/python3.8/site-packages (from requests) (2022.5.18.1)\r\n"
     ]
    }
   ],
   "source": [
    "!pip install requests qrcode"
   ]
  },
  {
   "cell_type": "code",
   "execution_count": 1,
   "id": "77134e45",
   "metadata": {},
   "outputs": [],
   "source": [
    "from IPython.display import Image\n",
    "import requests\n",
    "import qrcode\n",
    "\n",
    "def get_qr(mode=\"mobile\", send_to=\"\", amount=1.23):\n",
    "    url='https://thq68saavk.execute-api.ap-southeast-1.amazonaws.com/api/thai_qr'\n",
    "    r = requests.post(url, json={\"mode\":mode,\"send_to\":send_to, \"amount\":amount})\n",
    "    code=r.json()['result']\n",
    "    return code"
   ]
  },
  {
   "cell_type": "code",
   "execution_count": 2,
   "id": "53ce1e78",
   "metadata": {},
   "outputs": [
    {
     "name": "stdout",
     "output_type": "stream",
     "text": [
      "00020101021153037645802TH29370016A00000067701011101140066987654321054041.2363043FB3\n"
     ]
    },
    {
     "data": {
      "image/png": "[encoded data removed]",
      "text/plain": [
       "<IPython.core.display.Image object>"
      ]
     },
     "execution_count": 2,
     "metadata": {},
     "output_type": "execute_result"
    }
   ],
   "source": [
    "#to promptpay mobile\n",
    "code=get_qr(mode=\"mobile\", send_to=\"0826639206\", amount=1.23)\n",
    "print(code)\n",
    "img = qrcode.make(code,box_size=4)\n",
    "img.save('qr.png')\n",
    "Image(filename='qr.png') "
   ]
  },
  {
   "cell_type": "code",
   "execution_count": 3,
   "id": "2e879e8f",
   "metadata": {},
   "outputs": [
    {
     "name": "stdout",
     "output_type": "stream",
     "text": [
      "00020101021153037645802TH29370016A00000067701011102143210987654321054041.2363049A40\n"
     ]
    },
    {
     "data": {
      "image/png": "[encoded data removed]",
      "text/plain": [
       "<IPython.core.display.Image object>"
      ]
     },
     "execution_count": 3,
     "metadata": {},
     "output_type": "execute_result"
    }
   ],
   "source": [
    "#to promptpay nid\n",
    "code=get_qr(mode=\"nid\", send_to=\"4740200005983\", amount=1.23)\n",
    "print(code)\n",
    "img = qrcode.make(code,box_size=4)\n",
    "img.save('qr.png')\n",
    "Image(filename='qr.png') "
   ]
  },
  {
   "cell_type": "code",
   "execution_count": null,
   "id": "45cd4abf",
   "metadata": {},
   "outputs": [],
   "source": []
  }
 ],
 "metadata": {
  "kernelspec": {
   "display_name": "Django Shell-Plus",
   "language": "python",
   "name": "django_extensions"
  },
  "language_info": {
   "codemirror_mode": {
    "name": "ipython",
    "version": 3
   },
   "file_extension": ".py",
   "mimetype": "text/x-python",
   "name": "python",
   "nbconvert_exporter": "python",
   "pygments_lexer": "ipython3",
   "version": "3.8.12"
  }
 },
 "nbformat": 4,
 "nbformat_minor": 5
}
